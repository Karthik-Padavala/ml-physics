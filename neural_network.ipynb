{
  "nbformat": 4,
  "nbformat_minor": 0,
  "metadata": {
    "colab": {
      "name": "neural_network.ipynb",
      "provenance": [],
      "collapsed_sections": [],
      "mount_file_id": "1S94wuGF00vcBVG_3z6eB7oGV0tORD7My",
      "authorship_tag": "ABX9TyNpjM9gjDtaCj6FQ2CEv6Rv",
      "include_colab_link": true
    },
    "kernelspec": {
      "name": "python3",
      "display_name": "Python 3"
    }
  },
  "cells": [
    {
      "cell_type": "markdown",
      "metadata": {
        "id": "view-in-github",
        "colab_type": "text"
      },
      "source": [
        "<a href=\"https://colab.research.google.com/github/Karthik-Padavala/ml-physics/blob/code/neural_network.ipynb\" target=\"_parent\"><img src=\"https://colab.research.google.com/assets/colab-badge.svg\" alt=\"Open In Colab\"/></a>"
      ]
    },
    {
      "cell_type": "code",
      "metadata": {
        "id": "m6OEnoX28zFA",
        "outputId": "a4e96425-1be9-4384-e4d3-a6d2e098673d",
        "colab": {
          "base_uri": "https://localhost:8080/",
          "height": 34
        }
      },
      "source": [
        "from google.colab import drive\n",
        "drive.mount('/content/drive')"
      ],
      "execution_count": null,
      "outputs": [
        {
          "output_type": "stream",
          "text": [
            "Drive already mounted at /content/drive; to attempt to forcibly remount, call drive.mount(\"/content/drive\", force_remount=True).\n"
          ],
          "name": "stdout"
        }
      ]
    },
    {
      "cell_type": "code",
      "metadata": {
        "id": "twTyqBXV9RRn"
      },
      "source": [
        "import numpy as np\n",
        "import pickle"
      ],
      "execution_count": null,
      "outputs": []
    },
    {
      "cell_type": "code",
      "metadata": {
        "id": "6TmK73AL1pN5"
      },
      "source": [
        "path98 = '/content/drive/My Drive/rods98_data_correct/'\n",
        "#path126 = '/content/drive/My Drive/rods126_data_correct/'\n",
        "#path154 = '/content/drive/My Drive/rods154_data_correct/'\n",
        "#path182 = '/content/drive/My Drive/rods182_data_correct/'"
      ],
      "execution_count": null,
      "outputs": []
    },
    {
      "cell_type": "code",
      "metadata": {
        "id": "TjWgM8bwMLd9"
      },
      "source": [
        "d98 =  [0.5, 0.6, 0.7, 0.8, 1.10, 1.20, 1.30, 1.40]  #rods98_data2\n",
        "#d126 = [0.5, 0.6, 0.7, 0.8, 0.9, 1.20, 1.30, 1.40, 1.50, 1.60]  #rods126_data\n",
        "#d154 = [0.5, 0.6, 0.8, 0.9, 1.0, 1.30, 1.40, 1.50, 1.70, 1.80]  #rods154_data\n",
        "#d182 = [0.5, 0.7, 0.8, 0.9, 1.0, 1.30, 1.40, 1.50, 1.60, 1.70]  #rods182_data3"
      ],
      "execution_count": null,
      "outputs": []
    },
    {
      "cell_type": "code",
      "metadata": {
        "id": "z_G7UKR--_cM"
      },
      "source": [
        "test_path98 = '/content/drive/My Drive/rods98_data_correct/test/'\n",
        "#test_path126 = '/content/drive/My Drive/rod126_test/'\n",
        "#test_path154 = '/content/drive/My Drive/rods154_test/'\n",
        "#test_path182 = '/content/drive/My Drive/rods182_test/'"
      ],
      "execution_count": null,
      "outputs": []
    },
    {
      "cell_type": "code",
      "metadata": {
        "id": "SJcfhCSmxLLk"
      },
      "source": [
        "te98 =  [0.8245, 0.8730, 0.9215, 0.9458, 0.9942, 1.0185, 1.0670, 1.1155]\n",
        "t98 =  [0.5, 0.6, 0.7, 0.8, 1.10, 1.20, 1.30, 1.40]"
      ],
      "execution_count": null,
      "outputs": []
    },
    {
      "cell_type": "code",
      "metadata": {
        "id": "QRuQzb-yrEFh"
      },
      "source": [
        "#NN\n",
        "def data_to_lattice(path,L,d):\n",
        "  lattice = np.zeros((12000,int(L)*int(L)))\n",
        "  label = np.zeros((12000,))\n",
        "  j = 0\n",
        "  for i in d:\n",
        "    datafile = open(path+'snapshot'+str(\"{:.2f}\".format(i))+'.pickle','rb')\n",
        "    data = pickle.load(datafile)\n",
        "    datafile.close()\n",
        "    lattice[j:j+1500] +=np.array(data).reshape((1500,9604))\n",
        "    del data\n",
        "    datafile = open(path+'label'+str(\"{:.2f}\".format(i))+'.pickle','rb')\n",
        "    labels = pickle.load(datafile)\n",
        "    datafile.close()\n",
        "    label[j:j+1500] += labels[:1500].reshape((1500,))\n",
        "    j = j+1500\n",
        "    print('mc=',\"{:.4f}\".format(i),\"done\")\n",
        "\n",
        "  return lattice, label"
      ],
      "execution_count": null,
      "outputs": []
    },
    {
      "cell_type": "code",
      "metadata": {
        "id": "lLF4x7LNaUOO"
      },
      "source": [
        "#CNN\n",
        "def data_to_lattice(path,L,d):\n",
        "  lattice = np.zeros((15000,int(L),int(L)))\n",
        "  label = np.zeros((15000,1))\n",
        "  j = 0\n",
        "  for i in d:\n",
        "    datafile = open(path+'snapshot'+str(\"{:.2f}\".format(i))+'.pickle','rb')\n",
        "    data = pickle.load(datafile)\n",
        "    datafile.close()\n",
        "    lattice[j:j+1500] +=data\n",
        "    del data\n",
        "    datafile = open(path+'label'+str(\"{:.2f}\".format(i))+'.pickle','rb')\n",
        "    labels = pickle.load(datafile)\n",
        "    datafile.close()\n",
        "    label[j:j+1500] += labels\n",
        "    j = j+1500\n",
        "    print('mc=',\"{:.2f}\".format(i),\"done\")\n",
        "\n",
        "  return lattice, label"
      ],
      "execution_count": null,
      "outputs": []
    },
    {
      "cell_type": "code",
      "metadata": {
        "id": "852D2DQ8vqLL"
      },
      "source": [
        "def data_to_lattice_test(path,L,d):\n",
        "  lattice = np.zeros((1600,int(L)*int(L)))\n",
        "  label = np.zeros((1600,1))\n",
        "  j = 0\n",
        "  for i in d:\n",
        "    datafile = open(path+'snapshot'+str(\"{:.2f}\".format(i))+'.pickle','rb')\n",
        "    data = pickle.load(datafile)\n",
        "    datafile.close()\n",
        "    lattice[j:j+200] +=np.array(data[:200]).reshape((200,9604))\n",
        "    del data\n",
        "    datafile = open(path+'label'+str(\"{:.2f}\".format(i))+'.pickle','rb')\n",
        "    labels = pickle.load(datafile)\n",
        "    datafile.close()\n",
        "    label[j:j+200] += labels[:200]\n",
        "    j = j+200\n",
        "    print('mc=',\"{:.4f}\".format(i),\"done\")\n",
        "\n",
        "  return lattice, label"
      ],
      "execution_count": null,
      "outputs": []
    },
    {
      "cell_type": "code",
      "metadata": {
        "id": "HaKHfhnMAiqn",
        "outputId": "9688b47b-c300-4376-de8c-adbc7149e5f1",
        "colab": {
          "base_uri": "https://localhost:8080/",
          "height": 151
        }
      },
      "source": [
        "test_lattice, test_label = data_to_lattice_test(test_path98,98,te98)"
      ],
      "execution_count": null,
      "outputs": [
        {
          "output_type": "stream",
          "text": [
            "mc= 0.8245 done\n",
            "mc= 0.8730 done\n",
            "mc= 0.9215 done\n",
            "mc= 0.9458 done\n",
            "mc= 0.9942 done\n",
            "mc= 1.0185 done\n",
            "mc= 1.0670 done\n",
            "mc= 1.1155 done\n"
          ],
          "name": "stdout"
        }
      ]
    },
    {
      "cell_type": "code",
      "metadata": {
        "id": "m9azfVJVNwi8",
        "outputId": "debf521a-53c0-4758-9fcb-db20ce77941e",
        "colab": {
          "base_uri": "https://localhost:8080/",
          "height": 151
        }
      },
      "source": [
        "test_lattice2, test_label2 = data_to_lattice_test(test_path98,98,t98)"
      ],
      "execution_count": null,
      "outputs": [
        {
          "output_type": "stream",
          "text": [
            "mc= 0.5000 done\n",
            "mc= 0.6000 done\n",
            "mc= 0.7000 done\n",
            "mc= 0.8000 done\n",
            "mc= 1.1000 done\n",
            "mc= 1.2000 done\n",
            "mc= 1.3000 done\n",
            "mc= 1.4000 done\n"
          ],
          "name": "stdout"
        }
      ]
    },
    {
      "cell_type": "code",
      "metadata": {
        "id": "gksgxFdgdK7O",
        "outputId": "cc002680-b1f8-49ab-f321-5fe69d4887cf",
        "colab": {
          "base_uri": "https://localhost:8080/",
          "height": 151
        }
      },
      "source": [
        "lattice, label = data_to_lattice(path98,98,d98)"
      ],
      "execution_count": null,
      "outputs": [
        {
          "output_type": "stream",
          "text": [
            "mc= 0.5000 done\n",
            "mc= 0.6000 done\n",
            "mc= 0.7000 done\n",
            "mc= 0.8000 done\n",
            "mc= 1.1000 done\n",
            "mc= 1.2000 done\n",
            "mc= 1.3000 done\n",
            "mc= 1.4000 done\n"
          ],
          "name": "stdout"
        }
      ]
    },
    {
      "cell_type": "code",
      "metadata": {
        "id": "WzHVWEj9Wxcg"
      },
      "source": [
        "from sklearn.model_selection import train_test_split\n",
        "from tensorflow.keras.models import Sequential\n",
        "from tensorflow.keras.layers import Dense,Flatten,Activation,Conv2D, MaxPooling2D, Dropout\n",
        "from tensorflow import keras"
      ],
      "execution_count": null,
      "outputs": []
    },
    {
      "cell_type": "code",
      "metadata": {
        "id": "IIj0cXNtXDbx"
      },
      "source": [
        "X_train,X_test,Y_train,Y_test = train_test_split(lattice,label,test_size=0.15)"
      ],
      "execution_count": null,
      "outputs": []
    },
    {
      "cell_type": "code",
      "metadata": {
        "id": "3OeRNfNJcv63"
      },
      "source": [
        "model = Sequential()\n",
        "model.add(Dense(1000,input_shape=(9604,),activation='relu',kernel_regularizer=keras.regularizers.l2(0.001)))\n",
        "model.add(Dense(1600,activation='relu',kernel_regularizer=keras.regularizers.l2(0.001)))\n",
        "model.add(Dense(1000,activation='relu',kernel_regularizer=keras.regularizers.l2(0.001)))\n",
        "#model.add(Dense(200,activation='relu'))\n",
        "model.add(Dense(1,activation='sigmoid'))\n",
        "#,kernel_regularizer=keras.regularizers.l2(0.005)"
      ],
      "execution_count": null,
      "outputs": []
    },
    {
      "cell_type": "code",
      "metadata": {
        "id": "dalykPuzc1I_",
        "outputId": "cd335abc-b4d8-4d6d-9a6f-cc3c3cc1b30a",
        "colab": {
          "base_uri": "https://localhost:8080/",
          "height": 286
        }
      },
      "source": [
        "model.summary()"
      ],
      "execution_count": null,
      "outputs": [
        {
          "output_type": "stream",
          "text": [
            "Model: \"sequential_5\"\n",
            "_________________________________________________________________\n",
            "Layer (type)                 Output Shape              Param #   \n",
            "=================================================================\n",
            "dense_21 (Dense)             (None, 1000)              9605000   \n",
            "_________________________________________________________________\n",
            "dense_22 (Dense)             (None, 1600)              1601600   \n",
            "_________________________________________________________________\n",
            "dense_23 (Dense)             (None, 1000)              1601000   \n",
            "_________________________________________________________________\n",
            "dense_24 (Dense)             (None, 1)                 1001      \n",
            "=================================================================\n",
            "Total params: 12,808,601\n",
            "Trainable params: 12,808,601\n",
            "Non-trainable params: 0\n",
            "_________________________________________________________________\n"
          ],
          "name": "stdout"
        }
      ]
    },
    {
      "cell_type": "code",
      "metadata": {
        "id": "xrb3zbmAtWQo"
      },
      "source": [
        "opt = keras.optimizers.Adam(learning_rate=0.01)"
      ],
      "execution_count": null,
      "outputs": []
    },
    {
      "cell_type": "code",
      "metadata": {
        "id": "K22gfjGgcyhF"
      },
      "source": [
        "model.compile(optimizer='sgd',loss='binary_crossentropy',metrics=['accuracy'])"
      ],
      "execution_count": null,
      "outputs": []
    },
    {
      "cell_type": "code",
      "metadata": {
        "id": "srZtE4QPc4UN",
        "outputId": "e584c559-396f-4bc6-fbc7-456c7db62856",
        "colab": {
          "base_uri": "https://localhost:8080/",
          "height": 370
        }
      },
      "source": [
        "model.fit(X_train,Y_train,batch_size=128,epochs=0,validation_split=0.15)"
      ],
      "execution_count": null,
      "outputs": [
        {
          "output_type": "stream",
          "text": [
            "Epoch 1/10\n",
            "68/68 [==============================] - 14s 210ms/step - loss: 3.6489 - accuracy: 1.0000 - val_loss: 4.0866 - val_accuracy: 0.8314\n",
            "Epoch 2/10\n",
            "68/68 [==============================] - 15s 214ms/step - loss: 3.6389 - accuracy: 1.0000 - val_loss: 4.0764 - val_accuracy: 0.8307\n",
            "Epoch 3/10\n",
            "68/68 [==============================] - 15s 215ms/step - loss: 3.6290 - accuracy: 1.0000 - val_loss: 4.0729 - val_accuracy: 0.8301\n",
            "Epoch 4/10\n",
            "68/68 [==============================] - 15s 215ms/step - loss: 3.6191 - accuracy: 1.0000 - val_loss: 4.0686 - val_accuracy: 0.8261\n",
            "Epoch 5/10\n",
            "68/68 [==============================] - 15s 215ms/step - loss: 3.6093 - accuracy: 1.0000 - val_loss: 4.0509 - val_accuracy: 0.8320\n",
            "Epoch 6/10\n",
            "68/68 [==============================] - 15s 218ms/step - loss: 3.5995 - accuracy: 1.0000 - val_loss: 4.0435 - val_accuracy: 0.8314\n",
            "Epoch 7/10\n",
            "68/68 [==============================] - 15s 215ms/step - loss: 3.5897 - accuracy: 1.0000 - val_loss: 4.0277 - val_accuracy: 0.8346\n",
            "Epoch 8/10\n",
            "68/68 [==============================] - 15s 215ms/step - loss: 3.5799 - accuracy: 1.0000 - val_loss: 4.0221 - val_accuracy: 0.8346\n",
            "Epoch 9/10\n",
            "68/68 [==============================] - 15s 218ms/step - loss: 3.5702 - accuracy: 1.0000 - val_loss: 4.0153 - val_accuracy: 0.8307\n",
            "Epoch 10/10\n",
            "68/68 [==============================] - 15s 215ms/step - loss: 3.5605 - accuracy: 1.0000 - val_loss: 4.0109 - val_accuracy: 0.8288\n"
          ],
          "name": "stdout"
        },
        {
          "output_type": "execute_result",
          "data": {
            "text/plain": [
              "<tensorflow.python.keras.callbacks.History at 0x7fa430eab4a8>"
            ]
          },
          "metadata": {
            "tags": []
          },
          "execution_count": 71
        }
      ]
    },
    {
      "cell_type": "code",
      "metadata": {
        "id": "3P_Uawr8AxOq",
        "outputId": "41257c27-1e5b-4d96-b5a4-035b258b8f31",
        "colab": {
          "base_uri": "https://localhost:8080/",
          "height": 50
        }
      },
      "source": [
        "model.evaluate(X_test,Y_test)"
      ],
      "execution_count": null,
      "outputs": [
        {
          "output_type": "stream",
          "text": [
            "57/57 [==============================] - 2s 39ms/step - loss: 4.1925 - accuracy: 0.8150\n"
          ],
          "name": "stdout"
        },
        {
          "output_type": "execute_result",
          "data": {
            "text/plain": [
              "[4.1924543380737305, 0.8149999976158142]"
            ]
          },
          "metadata": {
            "tags": []
          },
          "execution_count": 63
        }
      ]
    },
    {
      "cell_type": "code",
      "metadata": {
        "id": "RiOO2OqTA2lI",
        "outputId": "3d415695-1956-43f1-af00-ce999786187c",
        "colab": {
          "base_uri": "https://localhost:8080/",
          "height": 286
        }
      },
      "source": [
        "i = 0\n",
        "while(i<1600):\n",
        "  print(model.evaluate(test_lattice[i:i+200],test_label[i:i+200]))\n",
        "  i += 200"
      ],
      "execution_count": null,
      "outputs": [
        {
          "output_type": "stream",
          "text": [
            "7/7 [==============================] - 0s 34ms/step - loss: 4.6430 - accuracy: 0.6000\n",
            "[4.643026828765869, 0.6000000238418579]\n",
            "7/7 [==============================] - 0s 32ms/step - loss: 5.0139 - accuracy: 0.5500\n",
            "[5.013908863067627, 0.550000011920929]\n",
            "7/7 [==============================] - 0s 33ms/step - loss: 5.5253 - accuracy: 0.4600\n",
            "[5.52534294128418, 0.46000000834465027]\n",
            "7/7 [==============================] - 0s 35ms/step - loss: 5.4907 - accuracy: 0.4350\n",
            "[5.490711212158203, 0.4350000023841858]\n",
            "7/7 [==============================] - 0s 34ms/step - loss: 4.6600 - accuracy: 0.6150\n",
            "[4.660024166107178, 0.6150000095367432]\n",
            "7/7 [==============================] - 0s 34ms/step - loss: 4.5915 - accuracy: 0.6200\n",
            "[4.591546535491943, 0.6200000047683716]\n",
            "7/7 [==============================] - 0s 35ms/step - loss: 4.4924 - accuracy: 0.6550\n",
            "[4.492369651794434, 0.6549999713897705]\n",
            "7/7 [==============================] - 0s 33ms/step - loss: 4.1522 - accuracy: 0.7750\n",
            "[4.152163505554199, 0.7749999761581421]\n"
          ],
          "name": "stdout"
        }
      ]
    },
    {
      "cell_type": "code",
      "metadata": {
        "id": "hZzohL6mOBw_",
        "outputId": "3d92c325-8c7a-48a3-f45c-c7582b97acae",
        "colab": {
          "base_uri": "https://localhost:8080/",
          "height": 286
        }
      },
      "source": [
        "i = 0\n",
        "while(i<1600):\n",
        "  print(model.evaluate(test_lattice2[i:i+200],test_label2[i:i+200]))\n",
        "  i += 200"
      ],
      "execution_count": null,
      "outputs": [
        {
          "output_type": "stream",
          "text": [
            "7/7 [==============================] - 0s 34ms/step - loss: 3.8483 - accuracy: 0.8650\n",
            "[3.848301887512207, 0.8650000095367432]\n",
            "7/7 [==============================] - 0s 39ms/step - loss: 3.9608 - accuracy: 0.8400\n",
            "[3.960843563079834, 0.8399999737739563]\n",
            "7/7 [==============================] - 0s 35ms/step - loss: 4.2155 - accuracy: 0.7500\n",
            "[4.215517997741699, 0.75]\n",
            "7/7 [==============================] - 0s 33ms/step - loss: 4.6630 - accuracy: 0.6850\n",
            "[4.6629743576049805, 0.6850000023841858]\n",
            "7/7 [==============================] - 0s 32ms/step - loss: 4.1055 - accuracy: 0.7800\n",
            "[4.1055498123168945, 0.7799999713897705]\n",
            "7/7 [==============================] - 0s 34ms/step - loss: 3.9217 - accuracy: 0.8450\n",
            "[3.9216504096984863, 0.8450000286102295]\n",
            "7/7 [==============================] - 0s 34ms/step - loss: 3.8141 - accuracy: 0.9100\n",
            "[3.8141417503356934, 0.9100000262260437]\n",
            "7/7 [==============================] - 0s 32ms/step - loss: 3.7378 - accuracy: 0.9250\n",
            "[3.737797737121582, 0.925000011920929]\n"
          ],
          "name": "stdout"
        }
      ]
    },
    {
      "cell_type": "code",
      "metadata": {
        "id": "3FpQKvzlSFnh"
      },
      "source": [
        "model.save('retrained_DNN.h5')"
      ],
      "execution_count": null,
      "outputs": []
    },
    {
      "cell_type": "code",
      "metadata": {
        "id": "_rIdQsatc8Gg"
      },
      "source": [
        "model.evaluate(X_test,Y_test)"
      ],
      "execution_count": null,
      "outputs": []
    },
    {
      "cell_type": "code",
      "metadata": {
        "id": "OmZQNlQXZ8rp"
      },
      "source": [
        "new_model = Sequential()\n",
        "new_model.add(Conv2D(filters=4,input_shape=(154,154,1),kernel_size=(3,3),activation='relu',kernel_regularizer=keras.regularizers.l2(0.1)))#previously l2=0.05\n",
        "new_model.add(MaxPooling2D(pool_size=(2,2),strides=2))\n",
        "new_model.add(Conv2D(filters=4,kernel_size=(3,3),activation='relu',kernel_regularizer=keras.regularizers.l2(0.075)))\n",
        "new_model.add(MaxPooling2D(pool_size=(2,2),strides=2))\n",
        "new_model.add(Flatten())\n",
        "new_model.add(Dropout(0.3)) #used to be 0.3 for rods first case\n",
        "new_model.add(Dense(256,activation='relu'))\n",
        "new_model.add(Dense(128,activation='relu'))\n",
        "new_model.add(Dense(1,activation='sigmoid'))"
      ],
      "execution_count": null,
      "outputs": []
    },
    {
      "cell_type": "code",
      "metadata": {
        "id": "Q7m5Qt1mazPT"
      },
      "source": [
        "new_model.compile(optimizer='adam',loss='binary_crossentropy',metrics=['accuracy'])"
      ],
      "execution_count": null,
      "outputs": []
    },
    {
      "cell_type": "code",
      "metadata": {
        "id": "6u5j2Ci2bP5d"
      },
      "source": [
        "X_train = np.expand_dims(X_train,axis=3)\n",
        "X_test = np.expand_dims(X_test,axis=3)"
      ],
      "execution_count": null,
      "outputs": []
    },
    {
      "cell_type": "code",
      "metadata": {
        "id": "vRecc6HdbAp2",
        "outputId": "48f5bfd2-5390-4571-a4ec-99236ad1d2d5",
        "colab": {
          "base_uri": "https://localhost:8080/",
          "height": 370
        }
      },
      "source": [
        "new_model.fit(X_train,Y_train,validation_split=0.15,batch_size=128,epochs=10)"
      ],
      "execution_count": null,
      "outputs": [
        {
          "output_type": "stream",
          "text": [
            "Epoch 1/10\n",
            "85/85 [==============================] - 87s 1s/step - loss: 1.0089 - accuracy: 0.6785 - val_loss: 0.5912 - val_accuracy: 0.9697\n",
            "Epoch 2/10\n",
            "85/85 [==============================] - 86s 1s/step - loss: 0.4940 - accuracy: 0.9562 - val_loss: 0.4332 - val_accuracy: 0.9760\n",
            "Epoch 3/10\n",
            "85/85 [==============================] - 86s 1s/step - loss: 0.4276 - accuracy: 0.9718 - val_loss: 0.4553 - val_accuracy: 0.9582\n",
            "Epoch 4/10\n",
            "85/85 [==============================] - 86s 1s/step - loss: 0.4089 - accuracy: 0.9742 - val_loss: 0.3876 - val_accuracy: 0.9822\n",
            "Epoch 5/10\n",
            "85/85 [==============================] - 86s 1s/step - loss: 0.4030 - accuracy: 0.9731 - val_loss: 0.4690 - val_accuracy: 0.9394\n",
            "Epoch 6/10\n",
            "85/85 [==============================] - 87s 1s/step - loss: 0.4101 - accuracy: 0.9665 - val_loss: 0.3867 - val_accuracy: 0.9775\n",
            "Epoch 7/10\n",
            "85/85 [==============================] - 86s 1s/step - loss: 0.3623 - accuracy: 0.9861 - val_loss: 0.3700 - val_accuracy: 0.9807\n",
            "Epoch 8/10\n",
            "85/85 [==============================] - 86s 1s/step - loss: 0.3485 - accuracy: 0.9885 - val_loss: 0.3987 - val_accuracy: 0.9645\n",
            "Epoch 9/10\n",
            "85/85 [==============================] - 86s 1s/step - loss: 0.3395 - accuracy: 0.9903 - val_loss: 0.3941 - val_accuracy: 0.9728\n",
            "Epoch 10/10\n",
            "85/85 [==============================] - 86s 1s/step - loss: 0.3356 - accuracy: 0.9896 - val_loss: 0.3798 - val_accuracy: 0.9733\n"
          ],
          "name": "stdout"
        },
        {
          "output_type": "execute_result",
          "data": {
            "text/plain": [
              "<tensorflow.python.keras.callbacks.History at 0x7f7b6329c588>"
            ]
          },
          "metadata": {
            "tags": []
          },
          "execution_count": 14
        }
      ]
    },
    {
      "cell_type": "code",
      "metadata": {
        "id": "5_Tw1ocMfUIv",
        "outputId": "f7137e52-2443-432a-c643-13a186bba37b",
        "colab": {
          "base_uri": "https://localhost:8080/",
          "height": 50
        }
      },
      "source": [
        "new_model.evaluate(X_test,Y_test)"
      ],
      "execution_count": null,
      "outputs": [
        {
          "output_type": "stream",
          "text": [
            "71/71 [==============================] - 8s 114ms/step - loss: 0.3662 - accuracy: 0.9751\n"
          ],
          "name": "stdout"
        },
        {
          "output_type": "execute_result",
          "data": {
            "text/plain": [
              "[0.366166353225708, 0.9751111268997192]"
            ]
          },
          "metadata": {
            "tags": []
          },
          "execution_count": 15
        }
      ]
    },
    {
      "cell_type": "markdown",
      "metadata": {
        "id": "RgFg-nGpckDk"
      },
      "source": [
        "Testing"
      ]
    },
    {
      "cell_type": "markdown",
      "metadata": {
        "id": "jdwXVY2AE3NO"
      },
      "source": [
        "0.99 for first 4 mc values 0.902, 0.868, 0.95, 0.997 for next 3 mc values"
      ]
    },
    {
      "cell_type": "markdown",
      "metadata": {
        "id": "GJoCSg9lGqgt"
      },
      "source": [
        "0.997 for first 5 mc values and 0.992 for last 5 mc values for mc=1.2 is 0.964 and for mc=0.9 is 0.98 for 14 epochs 126x126"
      ]
    },
    {
      "cell_type": "markdown",
      "metadata": {
        "id": "CfskGOlnxo7P"
      },
      "source": [
        "last 5 mc values 0.999 and first five 0.999  mc= 1.1 is 0.933 mc=1.3 is 0.994 for 10 epochs with test accuracy of 0.984 182x182"
      ]
    },
    {
      "cell_type": "markdown",
      "metadata": {
        "id": "sOYlQvFyvvxm"
      },
      "source": [
        "1.0, 1.0, 1.0, 1.0, 1.0, 0.993, 0.902, 0.992, 1.0, 1.0, 1.0, 1.0 with data of 1500 at each mc 6 epochs for test accuarcy of 0.97 182x182"
      ]
    },
    {
      "cell_type": "markdown",
      "metadata": {
        "id": "XXErkStvALb2"
      },
      "source": [
        "0.999 till 5 mc values then 0.9266 and the 0.865 and for rest of the 5 values it is 0.994 for test accuaracy of 0.96 182x182"
      ]
    },
    {
      "cell_type": "markdown",
      "metadata": {
        "id": "k1chQVA82FoZ"
      },
      "source": [
        "1.0, 1.0, 1.0, 1.0, 0.998, 0.952, 0.993, 0.998, 1.0, 1.0, 1.0, 1.0 for 14 epochs and test accuracy of 98.7 182x182"
      ]
    },
    {
      "cell_type": "code",
      "metadata": {
        "id": "J81vF9glZtFz",
        "outputId": "cbf8859a-b6cc-4a5c-fc1f-86c502d488ec",
        "colab": {
          "base_uri": "https://localhost:8080/",
          "height": 50
        }
      },
      "source": [
        "model.evaluate(np.expand_dims(lattice,axis=3),label)"
      ],
      "execution_count": null,
      "outputs": [
        {
          "output_type": "stream",
          "text": [
            "18000/18000 [==============================] - 90s 5ms/step\n"
          ],
          "name": "stdout"
        },
        {
          "output_type": "execute_result",
          "data": {
            "text/plain": [
              "[0.11974176067113876, 0.9906666874885559]"
            ]
          },
          "metadata": {
            "tags": []
          },
          "execution_count": 26
        }
      ]
    },
    {
      "cell_type": "code",
      "metadata": {
        "id": "UGh5Byu5K2mR",
        "outputId": "7c5f7d47-b984-433f-c71c-f85f0054ed90",
        "colab": {
          "base_uri": "https://localhost:8080/",
          "height": 353
        }
      },
      "source": [
        "i = 0\n",
        "while i<15000:\n",
        "  print(model.evaluate(np.expand_dims(lattice[i:i+1500],axis=3),label[i:i+1500]))\n",
        "  i = i+1500"
      ],
      "execution_count": null,
      "outputs": [
        {
          "output_type": "stream",
          "text": [
            "1500/1500 [==============================] - 2s 2ms/step\n",
            "[0.10690270827213923, 1.0]\n",
            "1500/1500 [==============================] - 2s 2ms/step\n",
            "[0.11214572930335999, 0.9993333220481873]\n",
            "1500/1500 [==============================] - 2s 2ms/step\n",
            "[0.1238351040283839, 1.0]\n",
            "1500/1500 [==============================] - 2s 2ms/step\n",
            "[0.1839356943766276, 0.9833333492279053]\n",
            "1500/1500 [==============================] - 2s 2ms/step\n",
            "[0.3507626207669576, 0.9100000262260437]\n",
            "1500/1500 [==============================] - 2s 2ms/step\n",
            "[0.6010294237136841, 0.7586666941642761]\n",
            "1500/1500 [==============================] - 2s 2ms/step\n",
            "[0.2832564279238383, 0.9319999814033508]\n",
            "1500/1500 [==============================] - 2s 2ms/step\n",
            "[0.15857131679852804, 0.9893333315849304]\n",
            "1500/1500 [==============================] - 2s 2ms/step\n",
            "[0.11817771236101786, 1.0]\n",
            "1500/1500 [==============================] - 2s 2ms/step\n",
            "[0.11131287799278895, 1.0]\n"
          ],
          "name": "stdout"
        }
      ]
    },
    {
      "cell_type": "code",
      "metadata": {
        "id": "x4VQjBvg5h8_",
        "outputId": "ac1a963b-130d-42c8-c6de-0b661dde391f",
        "colab": {
          "base_uri": "https://localhost:8080/",
          "height": 185
        }
      },
      "source": [
        "#test_lattice98, test_label98 = testdata_to_lattice(test_path98, 98, te98)\n",
        "#test_lattice126, test_label126 = testdata_to_lattice(test_path126, 126, te126)\n",
        "#test_lattice154, test_label154 = testdata_to_lattice(test_path154, 154, te154)\n",
        "test_lattice182, test_label182 = testdata_to_lattice(test_path182, 182, te182)"
      ],
      "execution_count": null,
      "outputs": [
        {
          "output_type": "stream",
          "text": [
            "mc= 0.50 done\n",
            "mc= 0.70 done\n",
            "mc= 0.80 done\n",
            "mc= 0.90 done\n",
            "mc= 1.00 done\n",
            "mc= 1.30 done\n",
            "mc= 1.40 done\n",
            "mc= 1.50 done\n",
            "mc= 1.60 done\n",
            "mc= 1.70 done\n"
          ],
          "name": "stdout"
        }
      ]
    },
    {
      "cell_type": "code",
      "metadata": {
        "id": "PsFBSJhc61dF"
      },
      "source": [
        "from keras.models import load_model\n",
        "model98 = load_model('/content/drive/My Drive/new_models/model_data98newbetter.h5')\n",
        "#model126 = load_model('/content/drive/My Drive/new_models/model_data126newbetter.h5')\n",
        "#model154 = load_model('/content/drive/My Drive/new_models/model_data154newbetter.h5')\n",
        "#model182 = load_model('/content/drive/My Drive/new_models/model_data182newbetter.h5')"
      ],
      "execution_count": null,
      "outputs": []
    },
    {
      "cell_type": "code",
      "metadata": {
        "id": "loZ3Gl3s6LOc",
        "outputId": "2f283842-4416-4d68-9e2f-8a54732a9739",
        "colab": {
          "base_uri": "https://localhost:8080/",
          "height": 34
        }
      },
      "source": [
        "np.sum(label[6000:])"
      ],
      "execution_count": null,
      "outputs": [
        {
          "output_type": "execute_result",
          "data": {
            "text/plain": [
              "6000.0"
            ]
          },
          "metadata": {
            "tags": []
          },
          "execution_count": 11
        }
      ]
    },
    {
      "cell_type": "code",
      "metadata": {
        "id": "tVDGJdS76shH",
        "outputId": "0d282d8f-02e2-4c27-d61b-6cff615a28a4",
        "colab": {
          "base_uri": "https://localhost:8080/",
          "height": 285
        }
      },
      "source": [
        "import matplotlib.pyplot as plt\n",
        "plt.imshow(lattice[11000],cmap='binary', vmin=0, vmax=2)"
      ],
      "execution_count": null,
      "outputs": [
        {
          "output_type": "execute_result",
          "data": {
            "text/plain": [
              "<matplotlib.image.AxesImage at 0x7f4d191ee208>"
            ]
          },
          "metadata": {
            "tags": []
          },
          "execution_count": 17
        },
        {
          "output_type": "display_data",
          "data": {
            "image/png": "[encoded data removed]",
            "text/plain": [
              "<Figure size 432x288 with 1 Axes>"
            ]
          },
          "metadata": {
            "tags": [],
            "needs_background": "light"
          }
        }
      ]
    },
    {
      "cell_type": "code",
      "metadata": {
        "id": "NM_oDbBrJrZO",
        "outputId": "bfb7cb03-a346-4ff3-ad1b-c5f0d96e2aad",
        "colab": {
          "base_uri": "https://localhost:8080/",
          "height": 286
        }
      },
      "source": [
        "i = 0\n",
        "while i<1600:\n",
        "  print(model98.evaluate(np.expand_dims(test_lattice[i:i+200],axis=3),test_label[i:i+200]))\n",
        "  i = i+200"
      ],
      "execution_count": null,
      "outputs": [
        {
          "output_type": "stream",
          "text": [
            "1500/1500 [==============================] - 3s 2ms/step\n",
            "[0.04470771923661232, 1.0]\n",
            "1500/1500 [==============================] - 2s 2ms/step\n",
            "[0.04470771923661232, 1.0]\n",
            "1500/1500 [==============================] - 2s 2ms/step\n",
            "[0.04470771923661232, 1.0]\n",
            "1500/1500 [==============================] - 2s 2ms/step\n",
            "[0.04470771923661232, 1.0]\n",
            "1500/1500 [==============================] - 2s 2ms/step\n",
            "[25.39211208597819, 0.0]\n",
            "1500/1500 [==============================] - 2s 2ms/step\n",
            "[22.36559679667155, 0.0]\n",
            "1500/1500 [==============================] - 2s 2ms/step\n",
            "[19.253440424601237, 0.0]\n",
            "1500/1500 [==============================] - 2s 2ms/step\n",
            "[16.139650319417317, 0.0]\n"
          ],
          "name": "stdout"
        }
      ]
    },
    {
      "cell_type": "code",
      "metadata": {
        "id": "RY3n4NLLHZ-3",
        "outputId": "1af78e24-c4c0-4d68-d310-8e7f651b12d3",
        "colab": {
          "base_uri": "https://localhost:8080/",
          "height": 286
        }
      },
      "source": [
        "i = 0\n",
        "while i<12000:\n",
        "  print(model98.evaluate(np.expand_dims(lattice[i:i+1500],axis=3),label[i:i+1500]))\n",
        "  i = i+1500"
      ],
      "execution_count": null,
      "outputs": [
        {
          "output_type": "stream",
          "text": [
            "1500/1500 [==============================] - 3s 2ms/step\n",
            "[0.04472081137696902, 1.0]\n",
            "1500/1500 [==============================] - 2s 2ms/step\n",
            "[0.04503784480690956, 1.0]\n",
            "1500/1500 [==============================] - 2s 2ms/step\n",
            "[0.0523089861869812, 0.9973333477973938]\n",
            "1500/1500 [==============================] - 2s 2ms/step\n",
            "[0.09480839227636655, 0.9833333492279053]\n",
            "1500/1500 [==============================] - 2s 2ms/step\n",
            "[0.22430528656641643, 0.9459999799728394]\n",
            "1500/1500 [==============================] - 2s 2ms/step\n",
            "[0.0969042489528656, 0.9779999852180481]\n",
            "1500/1500 [==============================] - 2s 2ms/step\n",
            "[0.052867242654164634, 0.9973333477973938]\n",
            "1500/1500 [==============================] - 2s 2ms/step\n",
            "[0.045242011904716495, 1.0]\n"
          ],
          "name": "stdout"
        }
      ]
    },
    {
      "cell_type": "code",
      "metadata": {
        "id": "PpjXSVbW6XUE",
        "outputId": "ff916e9f-56c7-4de7-af7b-f434032caf3e",
        "colab": {
          "base_uri": "https://localhost:8080/",
          "height": 34
        }
      },
      "source": [
        "print(np.shape(test_lattice154), np.shape(test_label154), np.sum(test_label154[:400]), np.sum(test_label154[400:]))"
      ],
      "execution_count": null,
      "outputs": [
        {
          "output_type": "stream",
          "text": [
            "(800, 154, 154) (800, 1) 0.0 400.0\n"
          ],
          "name": "stdout"
        }
      ]
    },
    {
      "cell_type": "code",
      "metadata": {
        "id": "KkaiqBeF6jjD",
        "outputId": "a06b844b-0500-448c-8fc4-7a1795cf9062",
        "colab": {
          "base_uri": "https://localhost:8080/",
          "height": 286
        }
      },
      "source": [
        "i = 0\n",
        "while i<1600:\n",
        "  print(model98.evaluate(np.expand_dims(test_lattice98[i:i+200],axis=3),test_label98[i:i+200]))\n",
        "  i = i+200"
      ],
      "execution_count": null,
      "outputs": [
        {
          "output_type": "stream",
          "text": [
            "200/200 [==============================] - 1s 3ms/step\n",
            "[0.044737980365753174, 1.0]\n",
            "200/200 [==============================] - 0s 2ms/step\n",
            "[0.04936532124876976, 1.0]\n",
            "200/200 [==============================] - 0s 2ms/step\n",
            "[0.061259987950325015, 0.9950000047683716]\n",
            "200/200 [==============================] - 0s 2ms/step\n",
            "[0.19987156093120576, 0.9549999833106995]\n",
            "200/200 [==============================] - 0s 2ms/step\n",
            "[0.6732157319784164, 0.7799999713897705]\n",
            "200/200 [==============================] - 0s 2ms/step\n",
            "[0.1944758725166321, 0.9399999976158142]\n",
            "200/200 [==============================] - 0s 2ms/step\n",
            "[0.05070711821317673, 1.0]\n",
            "200/200 [==============================] - 0s 2ms/step\n",
            "[0.04561762288212776, 1.0]\n"
          ],
          "name": "stdout"
        }
      ]
    },
    {
      "cell_type": "markdown",
      "metadata": {
        "id": "IGqWQ91Klt4s"
      },
      "source": [
        "0.839, 0.785, 0.759, 0.899"
      ]
    },
    {
      "cell_type": "code",
      "metadata": {
        "id": "i9Izvt2Tqehx",
        "outputId": "ba955636-2259-4d37-f37b-c765ba99f042",
        "colab": {
          "base_uri": "https://localhost:8080/",
          "height": 151
        }
      },
      "source": [
        "i = 0\n",
        "while i<800:\n",
        "  print(model.evaluate(np.expand_dims(test_lattice126[i:i+200],axis=3),test_label126[i:i+200]))\n",
        "  i = i+200"
      ],
      "execution_count": null,
      "outputs": [
        {
          "output_type": "stream",
          "text": [
            "200/200 [==============================] - 1s 3ms/step\n",
            "[1.0605039596557617, 0.9950000047683716]\n",
            "200/200 [==============================] - 1s 3ms/step\n",
            "[1.0626605987548827, 0.9900000095367432]\n",
            "200/200 [==============================] - 1s 3ms/step\n",
            "[0.7103313326835632, 0.3499999940395355]\n",
            "200/200 [==============================] - 1s 3ms/step\n",
            "[0.5129826474189758, 0.5400000214576721]\n"
          ],
          "name": "stdout"
        }
      ]
    },
    {
      "cell_type": "code",
      "metadata": {
        "id": "VBkfLjccUQbx",
        "outputId": "82055ce4-78a6-4239-f022-cbfd59001491",
        "colab": {
          "base_uri": "https://localhost:8080/",
          "height": 151
        }
      },
      "source": [
        "i = 0\n",
        "while i<800:\n",
        "  print(model.evaluate(np.expand_dims(test_lattice126[i:i+200],axis=3),test_label126[i:i+200]))\n",
        "  i = i+200"
      ],
      "execution_count": null,
      "outputs": [
        {
          "output_type": "stream",
          "text": [
            "200/200 [==============================] - 1s 3ms/step\n",
            "[0.3374271297454834, 0.9350000023841858]\n",
            "200/200 [==============================] - 0s 2ms/step\n",
            "[0.5095314288139343, 0.8349999785423279]\n",
            "200/200 [==============================] - 1s 3ms/step\n",
            "[0.5489773297309876, 0.824999988079071]\n",
            "200/200 [==============================] - 0s 2ms/step\n",
            "[0.2907492297887802, 0.9300000071525574]\n"
          ],
          "name": "stdout"
        }
      ]
    },
    {
      "cell_type": "code",
      "metadata": {
        "id": "ctAtELUSUwln",
        "outputId": "97663050-0c91-4650-abed-d5d2a3b0ca4f",
        "colab": {
          "base_uri": "https://localhost:8080/",
          "height": 151
        }
      },
      "source": [
        "i = 0\n",
        "while i<800:\n",
        "  print(model154.evaluate(np.expand_dims(test_lattice154[i:i+200],axis=3),test_label154[i:i+200]))\n",
        "  i = i+200"
      ],
      "execution_count": null,
      "outputs": [
        {
          "output_type": "stream",
          "text": [
            "200/200 [==============================] - 1s 4ms/step\n",
            "[0.20760836839675903, 0.9800000190734863]\n",
            "200/200 [==============================] - 1s 4ms/step\n",
            "[0.32758854746818544, 0.9150000214576721]\n",
            "200/200 [==============================] - 1s 4ms/step\n",
            "[0.3225028026103973, 0.9150000214576721]\n",
            "200/200 [==============================] - 1s 4ms/step\n",
            "[0.18963267982006074, 0.9750000238418579]\n"
          ],
          "name": "stdout"
        }
      ]
    },
    {
      "cell_type": "code",
      "metadata": {
        "id": "fBCczzAPU3Yi",
        "outputId": "f82a83cb-c49b-49db-bbdc-d05f3682c5a8",
        "colab": {
          "base_uri": "https://localhost:8080/",
          "height": 353
        }
      },
      "source": [
        "i = 0\n",
        "while i<2000:\n",
        "  print(model182.evaluate(np.expand_dims(test_lattice182[i:i+200],axis=3),test_label182[i:i+200]))\n",
        "  i = i+200"
      ],
      "execution_count": null,
      "outputs": [
        {
          "output_type": "stream",
          "text": [
            "200/200 [==============================] - 1s 6ms/step\n",
            "[0.11746769338846207, 1.0]\n",
            "200/200 [==============================] - 1s 5ms/step\n",
            "[0.11747073858976365, 1.0]\n",
            "200/200 [==============================] - 1s 5ms/step\n",
            "[0.11749642372131347, 1.0]\n",
            "200/200 [==============================] - 1s 5ms/step\n",
            "[0.11846331477165223, 1.0]\n",
            "200/200 [==============================] - 1s 5ms/step\n",
            "[0.21198050379753114, 0.9700000286102295]\n",
            "200/200 [==============================] - 1s 5ms/step\n",
            "[0.15495847672224045, 0.9950000047683716]\n",
            "200/200 [==============================] - 1s 5ms/step\n",
            "[0.11806103318929673, 1.0]\n",
            "200/200 [==============================] - 1s 5ms/step\n",
            "[0.1175066214799881, 1.0]\n",
            "200/200 [==============================] - 1s 5ms/step\n",
            "[0.11746854215860367, 1.0]\n",
            "200/200 [==============================] - 1s 5ms/step\n",
            "[0.1174692901968956, 1.0]\n"
          ],
          "name": "stdout"
        }
      ]
    },
    {
      "cell_type": "code",
      "metadata": {
        "id": "DxFmHtTppien",
        "outputId": "acbcdb3b-e885-4056-a4bb-039cdfb64146",
        "colab": {
          "base_uri": "https://localhost:8080/",
          "height": 286
        }
      },
      "source": [
        "plt.imshow(test_lattice[450],cmap='binary',vmin=0,vmax=2)"
      ],
      "execution_count": null,
      "outputs": [
        {
          "output_type": "execute_result",
          "data": {
            "text/plain": [
              "<matplotlib.image.AxesImage at 0x7f13cd159550>"
            ]
          },
          "metadata": {
            "tags": []
          },
          "execution_count": 38
        },
        {
          "output_type": "display_data",
          "data": {
            "image/png": "[encoded data removed]",
            "text/plain": [
              "<Figure size 432x288 with 1 Axes>"
            ]
          },
          "metadata": {
            "tags": [],
            "needs_background": "light"
          }
        }
      ]
    },
    {
      "cell_type": "code",
      "metadata": {
        "id": "11wxAz4Apwi_",
        "outputId": "b8e86ccb-7248-4e3f-bb07-3dca59990fd4",
        "colab": {
          "base_uri": "https://localhost:8080/",
          "height": 286
        }
      },
      "source": [
        "2eplt.imshow(test_lattice[690],cmap='binary',vmin=0,vmax=2)"
      ],
      "execution_count": null,
      "outputs": [
        {
          "output_type": "execute_result",
          "data": {
            "text/plain": [
              "<matplotlib.image.AxesImage at 0x7f13cd17b0f0>"
            ]
          },
          "metadata": {
            "tags": []
          },
          "execution_count": 37
        },
        {
          "output_type": "display_data",
          "data": {
            "image/png": "[encoded data removed]",
            "text/plain": [
              "<Figure size 432x288 with 1 Axes>"
            ]
          },
          "metadata": {
            "tags": [],
            "needs_background": "light"
          }
        }
      ]
    },
    {
      "cell_type": "code",
      "metadata": {
        "id": "K5Y9nUkAtjS3"
      },
      "source": [
        "model.save('model_data98newbetter.h5')"
      ],
      "execution_count": null,
      "outputs": []
    },
    {
      "cell_type": "code",
      "metadata": {
        "id": "W_3_36rCtxOH",
        "outputId": "bfaf2a76-e3aa-4435-af1f-2c4cd108ba54",
        "colab": {
          "base_uri": "https://localhost:8080/",
          "height": 441
        }
      },
      "source": [
        "from keras.models import load_model\n",
        "new_model = load_model('/content/model_data98newbetter.h5')"
      ],
      "execution_count": null,
      "outputs": [
        {
          "output_type": "error",
          "ename": "OSError",
          "evalue": "ignored",
          "traceback": [
            "\u001b[0;31m---------------------------------------------------------------------------\u001b[0m",
            "\u001b[0;31mOSError\u001b[0m                                   Traceback (most recent call last)",
            "\u001b[0;32m<ipython-input-53-0d180c5eac3f>\u001b[0m in \u001b[0;36m<module>\u001b[0;34m()\u001b[0m\n\u001b[1;32m      1\u001b[0m \u001b[0;32mfrom\u001b[0m \u001b[0mkeras\u001b[0m\u001b[0;34m.\u001b[0m\u001b[0mmodels\u001b[0m \u001b[0;32mimport\u001b[0m \u001b[0mload_model\u001b[0m\u001b[0;34m\u001b[0m\u001b[0;34m\u001b[0m\u001b[0m\n\u001b[0;32m----> 2\u001b[0;31m \u001b[0mnew_model\u001b[0m \u001b[0;34m=\u001b[0m \u001b[0mload_model\u001b[0m\u001b[0;34m(\u001b[0m\u001b[0;34m'/content/model_data98newbetter.h5'\u001b[0m\u001b[0;34m)\u001b[0m\u001b[0;34m\u001b[0m\u001b[0;34m\u001b[0m\u001b[0m\n\u001b[0m",
            "\u001b[0;32m/usr/local/lib/python3.6/dist-packages/keras/engine/saving.py\u001b[0m in \u001b[0;36mload_wrapper\u001b[0;34m(*args, **kwargs)\u001b[0m\n\u001b[1;32m    490\u001b[0m                 \u001b[0mos\u001b[0m\u001b[0;34m.\u001b[0m\u001b[0mremove\u001b[0m\u001b[0;34m(\u001b[0m\u001b[0mtmp_filepath\u001b[0m\u001b[0;34m)\u001b[0m\u001b[0;34m\u001b[0m\u001b[0;34m\u001b[0m\u001b[0m\n\u001b[1;32m    491\u001b[0m             \u001b[0;32mreturn\u001b[0m \u001b[0mres\u001b[0m\u001b[0;34m\u001b[0m\u001b[0;34m\u001b[0m\u001b[0m\n\u001b[0;32m--> 492\u001b[0;31m         \u001b[0;32mreturn\u001b[0m \u001b[0mload_function\u001b[0m\u001b[0;34m(\u001b[0m\u001b[0;34m*\u001b[0m\u001b[0margs\u001b[0m\u001b[0;34m,\u001b[0m \u001b[0;34m**\u001b[0m\u001b[0mkwargs\u001b[0m\u001b[0;34m)\u001b[0m\u001b[0;34m\u001b[0m\u001b[0;34m\u001b[0m\u001b[0m\n\u001b[0m\u001b[1;32m    493\u001b[0m \u001b[0;34m\u001b[0m\u001b[0m\n\u001b[1;32m    494\u001b[0m     \u001b[0;32mreturn\u001b[0m \u001b[0mload_wrapper\u001b[0m\u001b[0;34m\u001b[0m\u001b[0;34m\u001b[0m\u001b[0m\n",
            "\u001b[0;32m/usr/local/lib/python3.6/dist-packages/keras/engine/saving.py\u001b[0m in \u001b[0;36mload_model\u001b[0;34m(filepath, custom_objects, compile)\u001b[0m\n\u001b[1;32m    581\u001b[0m \u001b[0;34m\u001b[0m\u001b[0m\n\u001b[1;32m    582\u001b[0m     \u001b[0;32mif\u001b[0m \u001b[0mH5Dict\u001b[0m\u001b[0;34m.\u001b[0m\u001b[0mis_supported_type\u001b[0m\u001b[0;34m(\u001b[0m\u001b[0mfilepath\u001b[0m\u001b[0;34m)\u001b[0m\u001b[0;34m:\u001b[0m\u001b[0;34m\u001b[0m\u001b[0;34m\u001b[0m\u001b[0m\n\u001b[0;32m--> 583\u001b[0;31m         \u001b[0;32mwith\u001b[0m \u001b[0mH5Dict\u001b[0m\u001b[0;34m(\u001b[0m\u001b[0mfilepath\u001b[0m\u001b[0;34m,\u001b[0m \u001b[0mmode\u001b[0m\u001b[0;34m=\u001b[0m\u001b[0;34m'r'\u001b[0m\u001b[0;34m)\u001b[0m \u001b[0;32mas\u001b[0m \u001b[0mh5dict\u001b[0m\u001b[0;34m:\u001b[0m\u001b[0;34m\u001b[0m\u001b[0;34m\u001b[0m\u001b[0m\n\u001b[0m\u001b[1;32m    584\u001b[0m             \u001b[0mmodel\u001b[0m \u001b[0;34m=\u001b[0m \u001b[0m_deserialize_model\u001b[0m\u001b[0;34m(\u001b[0m\u001b[0mh5dict\u001b[0m\u001b[0;34m,\u001b[0m \u001b[0mcustom_objects\u001b[0m\u001b[0;34m,\u001b[0m \u001b[0mcompile\u001b[0m\u001b[0;34m)\u001b[0m\u001b[0;34m\u001b[0m\u001b[0;34m\u001b[0m\u001b[0m\n\u001b[1;32m    585\u001b[0m     \u001b[0;32melif\u001b[0m \u001b[0mhasattr\u001b[0m\u001b[0;34m(\u001b[0m\u001b[0mfilepath\u001b[0m\u001b[0;34m,\u001b[0m \u001b[0;34m'write'\u001b[0m\u001b[0;34m)\u001b[0m \u001b[0;32mand\u001b[0m \u001b[0mcallable\u001b[0m\u001b[0;34m(\u001b[0m\u001b[0mfilepath\u001b[0m\u001b[0;34m.\u001b[0m\u001b[0mwrite\u001b[0m\u001b[0;34m)\u001b[0m\u001b[0;34m:\u001b[0m\u001b[0;34m\u001b[0m\u001b[0;34m\u001b[0m\u001b[0m\n",
            "\u001b[0;32m/usr/local/lib/python3.6/dist-packages/keras/utils/io_utils.py\u001b[0m in \u001b[0;36m__init__\u001b[0;34m(self, path, mode)\u001b[0m\n\u001b[1;32m    189\u001b[0m             \u001b[0mself\u001b[0m\u001b[0;34m.\u001b[0m\u001b[0m_is_file\u001b[0m \u001b[0;34m=\u001b[0m \u001b[0;32mFalse\u001b[0m\u001b[0;34m\u001b[0m\u001b[0;34m\u001b[0m\u001b[0m\n\u001b[1;32m    190\u001b[0m         \u001b[0;32melif\u001b[0m \u001b[0misinstance\u001b[0m\u001b[0;34m(\u001b[0m\u001b[0mpath\u001b[0m\u001b[0;34m,\u001b[0m \u001b[0msix\u001b[0m\u001b[0;34m.\u001b[0m\u001b[0mstring_types\u001b[0m\u001b[0;34m)\u001b[0m \u001b[0;32mor\u001b[0m \u001b[0m_is_path_instance\u001b[0m\u001b[0;34m(\u001b[0m\u001b[0mpath\u001b[0m\u001b[0;34m)\u001b[0m\u001b[0;34m:\u001b[0m\u001b[0;34m\u001b[0m\u001b[0;34m\u001b[0m\u001b[0m\n\u001b[0;32m--> 191\u001b[0;31m             \u001b[0mself\u001b[0m\u001b[0;34m.\u001b[0m\u001b[0mdata\u001b[0m \u001b[0;34m=\u001b[0m \u001b[0mh5py\u001b[0m\u001b[0;34m.\u001b[0m\u001b[0mFile\u001b[0m\u001b[0;34m(\u001b[0m\u001b[0mpath\u001b[0m\u001b[0;34m,\u001b[0m \u001b[0mmode\u001b[0m\u001b[0;34m=\u001b[0m\u001b[0mmode\u001b[0m\u001b[0;34m)\u001b[0m\u001b[0;34m\u001b[0m\u001b[0;34m\u001b[0m\u001b[0m\n\u001b[0m\u001b[1;32m    192\u001b[0m             \u001b[0mself\u001b[0m\u001b[0;34m.\u001b[0m\u001b[0m_is_file\u001b[0m \u001b[0;34m=\u001b[0m \u001b[0;32mTrue\u001b[0m\u001b[0;34m\u001b[0m\u001b[0;34m\u001b[0m\u001b[0m\n\u001b[1;32m    193\u001b[0m         \u001b[0;32melif\u001b[0m \u001b[0misinstance\u001b[0m\u001b[0;34m(\u001b[0m\u001b[0mpath\u001b[0m\u001b[0;34m,\u001b[0m \u001b[0mdict\u001b[0m\u001b[0;34m)\u001b[0m\u001b[0;34m:\u001b[0m\u001b[0;34m\u001b[0m\u001b[0;34m\u001b[0m\u001b[0m\n",
            "\u001b[0;32m/usr/local/lib/python3.6/dist-packages/h5py/_hl/files.py\u001b[0m in \u001b[0;36m__init__\u001b[0;34m(self, name, mode, driver, libver, userblock_size, swmr, rdcc_nslots, rdcc_nbytes, rdcc_w0, track_order, **kwds)\u001b[0m\n\u001b[1;32m    406\u001b[0m                 fid = make_fid(name, mode, userblock_size,\n\u001b[1;32m    407\u001b[0m                                \u001b[0mfapl\u001b[0m\u001b[0;34m,\u001b[0m \u001b[0mfcpl\u001b[0m\u001b[0;34m=\u001b[0m\u001b[0mmake_fcpl\u001b[0m\u001b[0;34m(\u001b[0m\u001b[0mtrack_order\u001b[0m\u001b[0;34m=\u001b[0m\u001b[0mtrack_order\u001b[0m\u001b[0;34m)\u001b[0m\u001b[0;34m,\u001b[0m\u001b[0;34m\u001b[0m\u001b[0;34m\u001b[0m\u001b[0m\n\u001b[0;32m--> 408\u001b[0;31m                                swmr=swmr)\n\u001b[0m\u001b[1;32m    409\u001b[0m \u001b[0;34m\u001b[0m\u001b[0m\n\u001b[1;32m    410\u001b[0m             \u001b[0;32mif\u001b[0m \u001b[0misinstance\u001b[0m\u001b[0;34m(\u001b[0m\u001b[0mlibver\u001b[0m\u001b[0;34m,\u001b[0m \u001b[0mtuple\u001b[0m\u001b[0;34m)\u001b[0m\u001b[0;34m:\u001b[0m\u001b[0;34m\u001b[0m\u001b[0;34m\u001b[0m\u001b[0m\n",
            "\u001b[0;32m/usr/local/lib/python3.6/dist-packages/h5py/_hl/files.py\u001b[0m in \u001b[0;36mmake_fid\u001b[0;34m(name, mode, userblock_size, fapl, fcpl, swmr)\u001b[0m\n\u001b[1;32m    171\u001b[0m         \u001b[0;32mif\u001b[0m \u001b[0mswmr\u001b[0m \u001b[0;32mand\u001b[0m \u001b[0mswmr_support\u001b[0m\u001b[0;34m:\u001b[0m\u001b[0;34m\u001b[0m\u001b[0;34m\u001b[0m\u001b[0m\n\u001b[1;32m    172\u001b[0m             \u001b[0mflags\u001b[0m \u001b[0;34m|=\u001b[0m \u001b[0mh5f\u001b[0m\u001b[0;34m.\u001b[0m\u001b[0mACC_SWMR_READ\u001b[0m\u001b[0;34m\u001b[0m\u001b[0;34m\u001b[0m\u001b[0m\n\u001b[0;32m--> 173\u001b[0;31m         \u001b[0mfid\u001b[0m \u001b[0;34m=\u001b[0m \u001b[0mh5f\u001b[0m\u001b[0;34m.\u001b[0m\u001b[0mopen\u001b[0m\u001b[0;34m(\u001b[0m\u001b[0mname\u001b[0m\u001b[0;34m,\u001b[0m \u001b[0mflags\u001b[0m\u001b[0;34m,\u001b[0m \u001b[0mfapl\u001b[0m\u001b[0;34m=\u001b[0m\u001b[0mfapl\u001b[0m\u001b[0;34m)\u001b[0m\u001b[0;34m\u001b[0m\u001b[0;34m\u001b[0m\u001b[0m\n\u001b[0m\u001b[1;32m    174\u001b[0m     \u001b[0;32melif\u001b[0m \u001b[0mmode\u001b[0m \u001b[0;34m==\u001b[0m \u001b[0;34m'r+'\u001b[0m\u001b[0;34m:\u001b[0m\u001b[0;34m\u001b[0m\u001b[0;34m\u001b[0m\u001b[0m\n\u001b[1;32m    175\u001b[0m         \u001b[0mfid\u001b[0m \u001b[0;34m=\u001b[0m \u001b[0mh5f\u001b[0m\u001b[0;34m.\u001b[0m\u001b[0mopen\u001b[0m\u001b[0;34m(\u001b[0m\u001b[0mname\u001b[0m\u001b[0;34m,\u001b[0m \u001b[0mh5f\u001b[0m\u001b[0;34m.\u001b[0m\u001b[0mACC_RDWR\u001b[0m\u001b[0;34m,\u001b[0m \u001b[0mfapl\u001b[0m\u001b[0;34m=\u001b[0m\u001b[0mfapl\u001b[0m\u001b[0;34m)\u001b[0m\u001b[0;34m\u001b[0m\u001b[0;34m\u001b[0m\u001b[0m\n",
            "\u001b[0;32mh5py/_objects.pyx\u001b[0m in \u001b[0;36mh5py._objects.with_phil.wrapper\u001b[0;34m()\u001b[0m\n",
            "\u001b[0;32mh5py/_objects.pyx\u001b[0m in \u001b[0;36mh5py._objects.with_phil.wrapper\u001b[0;34m()\u001b[0m\n",
            "\u001b[0;32mh5py/h5f.pyx\u001b[0m in \u001b[0;36mh5py.h5f.open\u001b[0;34m()\u001b[0m\n",
            "\u001b[0;31mOSError\u001b[0m: Unable to open file (unable to open file: name = '/content/model_data98newbetter.h5', errno = 2, error message = 'No such file or directory', flags = 0, o_flags = 0)"
          ]
        }
      ]
    },
    {
      "cell_type": "code",
      "metadata": {
        "id": "KR9yrICuuDRM",
        "outputId": "03642414-f2b9-4ff0-8d36-9ffbda4a5b20",
        "colab": {
          "base_uri": "https://localhost:8080/",
          "height": 151
        }
      },
      "source": [
        "i = 0\n",
        "while i<800:\n",
        "  print(new_model.evaluate(np.expand_dims(test_lattice98[i:i+200],axis=3),test_label98[i:i+200]))\n",
        "  i = i+200"
      ],
      "execution_count": null,
      "outputs": [
        {
          "output_type": "stream",
          "text": [
            "200/200 [==============================] - 0s 2ms/step\n",
            "[0.35447196125984193, 0.8849999904632568]\n",
            "200/200 [==============================] - 0s 2ms/step\n",
            "[0.6838470268249511, 0.7250000238418579]\n",
            "200/200 [==============================] - 0s 2ms/step\n",
            "[0.7585494184494018, 0.7149999737739563]\n",
            "200/200 [==============================] - 0s 2ms/step\n",
            "[0.41985146939754486, 0.8799999952316284]\n"
          ],
          "name": "stdout"
        }
      ]
    },
    {
      "cell_type": "code",
      "metadata": {
        "id": "Wp5i3tlhtape",
        "outputId": "db58f6a6-454a-429b-d5a5-827da0005301",
        "colab": {
          "base_uri": "https://localhost:8080/",
          "height": 84
        }
      },
      "source": [
        "!pip install pyyaml h5py"
      ],
      "execution_count": null,
      "outputs": [
        {
          "output_type": "stream",
          "text": [
            "Requirement already satisfied: pyyaml in /usr/local/lib/python3.6/dist-packages (3.13)\n",
            "Requirement already satisfied: h5py in /usr/local/lib/python3.6/dist-packages (2.10.0)\n",
            "Requirement already satisfied: six in /usr/local/lib/python3.6/dist-packages (from h5py) (1.12.0)\n",
            "Requirement already satisfied: numpy>=1.7 in /usr/local/lib/python3.6/dist-packages (from h5py) (1.18.5)\n"
          ],
          "name": "stdout"
        }
      ]
    },
    {
      "cell_type": "code",
      "metadata": {
        "id": "N66HIRyUtZsm",
        "outputId": "dd3e2f32-a377-40ed-c6f0-37a340273e5e",
        "colab": {
          "base_uri": "https://localhost:8080/",
          "height": 50
        }
      },
      "source": [
        "model.evaluate(np.expand_dims(lattice[7500:9000],axis=3),label[7500:9000])"
      ],
      "execution_count": null,
      "outputs": [
        {
          "output_type": "stream",
          "text": [
            "1500/1500 [==============================] - 8s 5ms/step\n"
          ],
          "name": "stdout"
        },
        {
          "output_type": "execute_result",
          "data": {
            "text/plain": [
              "[0.1153181246916453, 0.9933333396911621]"
            ]
          },
          "metadata": {
            "tags": []
          },
          "execution_count": 28
        }
      ]
    },
    {
      "cell_type": "code",
      "metadata": {
        "id": "QPbB0eDq7NYS",
        "outputId": "8686b039-67bf-44f8-ff58-c84d8848c90d",
        "colab": {
          "base_uri": "https://localhost:8080/",
          "height": 454
        }
      },
      "source": [
        "model2.summary()"
      ],
      "execution_count": null,
      "outputs": [
        {
          "output_type": "stream",
          "text": [
            "Model: \"sequential_1\"\n",
            "_________________________________________________________________\n",
            "Layer (type)                 Output Shape              Param #   \n",
            "=================================================================\n",
            "conv2d_1 (Conv2D)            (None, 152, 152, 4)       40        \n",
            "_________________________________________________________________\n",
            "max_pooling2d_1 (MaxPooling2 (None, 76, 76, 4)         0         \n",
            "_________________________________________________________________\n",
            "conv2d_2 (Conv2D)            (None, 74, 74, 4)         148       \n",
            "_________________________________________________________________\n",
            "max_pooling2d_2 (MaxPooling2 (None, 37, 37, 4)         0         \n",
            "_________________________________________________________________\n",
            "flatten_1 (Flatten)          (None, 5476)              0         \n",
            "_________________________________________________________________\n",
            "dropout_1 (Dropout)          (None, 5476)              0         \n",
            "_________________________________________________________________\n",
            "dense_1 (Dense)              (None, 256)               1402112   \n",
            "_________________________________________________________________\n",
            "dense_2 (Dense)              (None, 128)               32896     \n",
            "_________________________________________________________________\n",
            "dense_3 (Dense)              (None, 1)                 129       \n",
            "=================================================================\n",
            "Total params: 1,435,325\n",
            "Trainable params: 1,435,325\n",
            "Non-trainable params: 0\n",
            "_________________________________________________________________\n"
          ],
          "name": "stdout"
        }
      ]
    },
    {
      "cell_type": "code",
      "metadata": {
        "id": "P1qOtxU27RK0"
      },
      "source": [
        ""
      ],
      "execution_count": null,
      "outputs": []
    }
  ]
}