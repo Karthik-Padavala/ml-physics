{
  "nbformat": 4,
  "nbformat_minor": 0,
  "metadata": {
    "colab": {
      "name": "CNN.ipynb",
      "provenance": [],
      "collapsed_sections": []
    },
    "kernelspec": {
      "name": "python3",
      "display_name": "Python 3"
    }
  },
  "cells": [
    {
      "cell_type": "code",
      "metadata": {
        "id": "Io7nJZU47Xcj"
      },
      "source": [
        "# In this notebook CNN is trained to clasify the phases of a system of hard rods on a square lattice\n",
        "\n",
        "import numpy as np\n",
        "import pickle"
      ],
      "execution_count": null,
      "outputs": []
    },
    {
      "cell_type": "code",
      "metadata": {
        "id": "sjo-GQgf7jnz"
      },
      "source": [
        "# path to the data\n",
        "path98 = '/content/drive/My Drive/rods98_data_correct/'\n",
        "path126 = '/content/drive/My Drive/rods126_data_correct/'\n",
        "path154 = '/content/drive/My Drive/rods154_data_correct/'\n",
        "path182 = '/content/drive/My Drive/rods182_data_correct/'"
      ],
      "execution_count": null,
      "outputs": []
    },
    {
      "cell_type": "code",
      "metadata": {
        "id": "1Nmpkqor7m_Y"
      },
      "source": [
        "# mu_values of the train data\n",
        "d98 =  [0.5, 0.6, 0.7, 0.8, 1.10, 1.20, 1.30, 1.40]\n",
        "d126 = [0.5, 0.6, 0.7, 0.8, 0.9, 1.20, 1.30, 1.40, 1.50, 1.60]\n",
        "d154 = [0.5, 0.6, 0.8, 0.9, 1.0, 1.30, 1.40, 1.50, 1.70, 1.80]\n",
        "d182 = [0.5, 0.7, 0.8, 0.9, 1.0, 1.30, 1.40, 1.50, 1.60, 1.70]"
      ],
      "execution_count": null,
      "outputs": []
    },
    {
      "cell_type": "code",
      "metadata": {
        "id": "mzA5RY1X7pVu"
      },
      "source": [
        "# raw data to matrices (train data)\n",
        "def data_to_lattice(path,L,d):\n",
        "  lattice = np.zeros((15000,int(L),int(L)))\n",
        "  label = np.zeros((15000,1))\n",
        "  j = 0\n",
        "  for i in d:\n",
        "    datafile = open(path+'snapshot'+str(\"{:.2f}\".format(i))+'.pickle','rb')\n",
        "    data = pickle.load(datafile)\n",
        "    datafile.close()\n",
        "    lattice[j:j+1500] +=data\n",
        "    del data\n",
        "    datafile = open(path+'label'+str(\"{:.2f}\".format(i))+'.pickle','rb')\n",
        "    labels = pickle.load(datafile)\n",
        "    datafile.close()\n",
        "    label[j:j+1500] += labels\n",
        "    j = j+1500\n",
        "    print('mc=',\"{:.2f}\".format(i),\"done\")\n",
        "\n",
        "  return lattice, label"
      ],
      "execution_count": null,
      "outputs": []
    },
    {
      "cell_type": "code",
      "metadata": {
        "id": "GS5bM-ml7t-L"
      },
      "source": [
        "#loading data\n",
        "\n",
        "lattice, label = data_to_lattice(path98, 98, d98)\n",
        "lattice126, label126 = data_to_lattice(path126, 126, d126)\n",
        "lattice154, label154 = data_to_lattice(path154, 154, d154)\n",
        "lattice182, label182 = data_to_lattice(path182, 182, d182)"
      ],
      "execution_count": null,
      "outputs": []
    },
    {
      "cell_type": "code",
      "metadata": {
        "id": "30uY9II_7wbM"
      },
      "source": [
        "# importing libraries\n",
        "\n",
        "from sklearn.model_selection import train_test_split\n",
        "from keras.models import Sequential\n",
        "from keras.layers import Dense,Flatten,Activation,Conv2D, MaxPooling2D, Dropout\n",
        "import keras"
      ],
      "execution_count": null,
      "outputs": []
    },
    {
      "cell_type": "code",
      "metadata": {
        "id": "cAcmNFhh7zoh"
      },
      "source": [
        "# test_train_split \n",
        "# in this notebook training on the data of size L = 154\n",
        "\n",
        "X_train,X_test,Y_train,Y_test = train_test_split(lattice154,label154,test_size=0.15)\n",
        "\n",
        "X_train = np.expand_dims(X_train,axis=3)\n",
        "X_test = np.expand_dims(X_test,axis=3)\n",
        "\n",
        "del lattice154 # to erase unwanted data"
      ],
      "execution_count": null,
      "outputs": []
    },
    {
      "cell_type": "code",
      "metadata": {
        "id": "dHT-7F5B74w6"
      },
      "source": [
        "# CNN architecture\n",
        "\n",
        "model = Sequential()\n",
        "model.add(Conv2D(filters=4,input_shape=(154,154,1),kernel_size=(3,3),activation='relu',kernel_regularizer=keras.regularizers.l2(0.1)))#previously l2=0.05\n",
        "model.add(MaxPooling2D(pool_size=(2,2),strides=2))\n",
        "model.add(Conv2D(filters=4,kernel_size=(3,3),activation='relu',kernel_regularizer=keras.regularizers.l2(0.075)))\n",
        "model.add(MaxPooling2D(pool_size=(2,2),strides=2))\n",
        "model.add(Flatten())\n",
        "model.add(Dropout(0.3)) #used to be 0.3 for rods first case\n",
        "model.add(Dense(256,activation='relu'))\n",
        "model.add(Dense(128,activation='relu'))\n",
        "model.add(Dense(1,activation='sigmoid'))"
      ],
      "execution_count": null,
      "outputs": []
    },
    {
      "cell_type": "code",
      "metadata": {
        "id": "WXZyz81r76y7"
      },
      "source": [
        "# model summary\n",
        "model.summary()"
      ],
      "execution_count": null,
      "outputs": []
    },
    {
      "cell_type": "code",
      "metadata": {
        "id": "RmBWNa7Q7889"
      },
      "source": [
        "# compiling the model\n",
        "model.compile(loss='binary_crossentropy',optimizer='adam',metrics=['accuracy'])"
      ],
      "execution_count": null,
      "outputs": []
    },
    {
      "cell_type": "code",
      "metadata": {
        "id": "o81-DQ7S7_iN"
      },
      "source": [
        "# fitting the data\n",
        "model.fit(X_train,Y_train,validation_split=0.15,batch_size=64,epochs=100) "
      ],
      "execution_count": null,
      "outputs": []
    },
    {
      "cell_type": "markdown",
      "metadata": {
        "id": "xr0VBTcE_KoL"
      },
      "source": [
        "Testing "
      ]
    },
    {
      "cell_type": "code",
      "metadata": {
        "id": "emEcQzMTWTj9"
      },
      "source": [
        "# raw data to matrices (test)\n",
        "def testdata_to_lattice(path,L,d):\n",
        "  lattice = np.zeros((6000,int(L),int(L)))\n",
        "  label = np.zeros((6000,1))\n",
        "  j = 0\n",
        "  for i in d:\n",
        "    datafile = open(path+'snapshot'+str(\"{:.4f}\".format(i))+'.pickle','rb')\n",
        "    data = pickle.load(datafile)\n",
        "    datafile.close()\n",
        "    lattice[j:j+1000] +=data\n",
        "    del data\n",
        "    datafile = open(path+'label'+str(\"{:.4f}\".format(i))+'.pickle','rb')\n",
        "    labels = pickle.load(datafile)\n",
        "    datafile.close()\n",
        "    label[j:j+1000] += labels\n",
        "    j = j+1000\n",
        "    print('mc=',\"{:.2f}\".format(i),\"done\")\n",
        "\n",
        "  return lattice, label"
      ],
      "execution_count": null,
      "outputs": []
    },
    {
      "cell_type": "code",
      "metadata": {
        "id": "b3fNfNnL8hKQ"
      },
      "source": [
        "# test path\n",
        "test_path98 = '/content/drive/My Drive/rods98_data_correct/test/'\n",
        "test_path126 = '/content/drive/My Drive/rods126_data_correct/test/'\n",
        "test_path154 = '/content/drive/My Drive/rods154_data_correct/test/'\n",
        "\n",
        "# test mu_values\n",
        "te98 =  [0.8245, 0.8730, 0.9215, 0.9458, 0.9942, 1.0185, 1.0670, 1.1155]\n",
        "te126 = [0.8925, 0.9450, 0.9975, 1.0238, 1.0763, 1.1025, 1.1550, 1.2075]\n",
        "te154 = [0.9435, 0.9990, 1.0545, 1.0823, 1.1378, 1.1655, 1.2210, 1.2765]\n",
        "te182 = [0.9690, 1.0260, 1.0830, 1.1115, 1.1685, 1.1970, 1.2540, 1.3110]"
      ],
      "execution_count": null,
      "outputs": []
    },
    {
      "cell_type": "code",
      "metadata": {
        "id": "lCIdheMGIuhf"
      },
      "source": [
        "# loading the data\n",
        "t98, l98 = testdata_to_lattice(test_path98,98,te98)\n",
        "t126, l126 = testdata_to_lattice(test_path126,126,te126)\n",
        "t154, l154 = testdata_to_lattice(test_path154,154,te154)\n",
        "t182, l182 = testdata_to_lattice(test_path182,182,te182)"
      ],
      "execution_count": null,
      "outputs": []
    },
    {
      "cell_type": "code",
      "execution_count": null,
      "metadata": {},
      "outputs": [],
      "source": [
        "# testing the CNN\n",
        "i = 0\n",
        "while(i<1600):\n",
        "  print(model.evaluate(t154[i:i+200],l154[i:i+200]))\n",
        "  i += 200"
      ]
    }
  ]
}